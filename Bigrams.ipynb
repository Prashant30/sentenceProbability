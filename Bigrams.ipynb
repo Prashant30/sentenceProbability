{
  "nbformat": 4,
  "nbformat_minor": 0,
  "metadata": {
    "colab": {
      "name": "Bigrams.ipynb",
      "provenance": [],
      "collapsed_sections": []
    },
    "kernelspec": {
      "name": "python3",
      "display_name": "Python 3"
    },
    "accelerator": "TPU"
  },
  "cells": [
    {
      "cell_type": "code",
      "metadata": {
        "id": "RacZJJf7L7_h",
        "colab_type": "code",
        "colab": {}
      },
      "source": [
        "import numpy as np\n",
        "import json, pickle\n",
        "import sys"
      ],
      "execution_count": 0,
      "outputs": []
    },
    {
      "cell_type": "code",
      "metadata": {
        "id": "T-xs0-pTMCh1",
        "colab_type": "code",
        "colab": {}
      },
      "source": [
        "def readFile(filename):\n",
        "  data=[]\n",
        "  file=open(filename, 'r')\n",
        "  for word in file.read().split():\n",
        "    data.append(word)\n",
        "  file.close()\n",
        "  return data"
      ],
      "execution_count": 0,
      "outputs": []
    },
    {
      "cell_type": "code",
      "metadata": {
        "id": "TsYH7rGVFJ17",
        "colab_type": "code",
        "colab": {}
      },
      "source": [
        "# creating the dataset for unigrams and bigrams\n",
        "\n",
        "def dataSet(data):\n",
        "  Bigrams=[]\n",
        "  bigramCounts = {}\n",
        "  unigramCounts = {}\n",
        "  for i in range(len(data)):\n",
        "    if i < len(data)-1:\n",
        "      Bigrams.append((data[i],data[i+1]))\n",
        "      if(data[i],data[i+1]) in bigramCounts:\n",
        "        bigramCounts[(data[i],data[i+1])] +=1\n",
        "      else:\n",
        "        bigramCounts[(data[i],data[i+1])] = 1\n",
        "    \n",
        "    if data[i] in unigramCounts:\n",
        "      unigramCounts[data[i]] +=1\n",
        "    else:\n",
        "      unigramCounts[data[i]]=1\n",
        "  \n",
        "  return Bigrams, bigramCounts, unigramCounts"
      ],
      "execution_count": 0,
      "outputs": []
    },
    {
      "cell_type": "code",
      "metadata": {
        "id": "T9W7PWzN32Q5",
        "colab_type": "code",
        "colab": {}
      },
      "source": [
        "# calculating bigram probabilities\n",
        "def bigramprob(Bigrams, bigramCounts, unigramCounts):\n",
        "  probablities = {}\n",
        "  for i in Bigrams:\n",
        "    probablities[i] = (bigramCounts.get(i))/(unigramCounts.get(i[0])) # P = (Wi/Wi-1)\n",
        "#    print(probablities[i])\n",
        "  return probablities\n",
        "  "
      ],
      "execution_count": 0,
      "outputs": []
    },
    {
      "cell_type": "code",
      "metadata": {
        "id": "A9pGhs5B53kX",
        "colab_type": "code",
        "colab": {}
      },
      "source": [
        "fileName = '/content/sample_data/corpus_for_language_models.txt'\n",
        "data = readFile(fileName)\n",
        "Bigrams, bigramCounts, unigramCounts = dataSet(data)\n",
        "bigramProb = bigramprob(Bigrams, bigramCounts, unigramCounts)\n"
      ],
      "execution_count": 0,
      "outputs": []
    },
    {
      "cell_type": "code",
      "metadata": {
        "id": "xP-UJvgNB_KA",
        "colab_type": "code",
        "colab": {}
      },
      "source": [
        "sent1 = 'The memo attempts to remove the tourist board as far as possible from the agency'\n",
        "tokens = []\n",
        "for i in range(len(sent1.split())-1):\n",
        "  tokens.append((sent1.split()[i], sent1.split()[i+1]))\n",
        "#print(tokens)\n"
      ],
      "execution_count": 0,
      "outputs": []
    },
    {
      "cell_type": "code",
      "metadata": {
        "id": "IwUsnom2s_aL",
        "colab_type": "code",
        "colab": {}
      },
      "source": [
        "def laplaceSmooothing(Bigrams, bigramCounts, unigramCounts):\n",
        "  laplaceCounts = {}\n",
        "  adjustedCounts = {}\n",
        "  for i in Bigrams:\n",
        "    laplaceCounts[i] = (bigramCounts.get(i)+1)/(unigramCounts.get(i[0]) + len(unigramCounts)) # P =  c+1/(N+V)\n",
        "    adjustedCounts[i] = (bigramCounts.get(i)+1)*(unigramCounts.get(i[0])/(unigramCounts.get(i[0]) + len(unigramCounts))) # C* = (c+1)N/(N+V)\n",
        "  return laplaceCounts, adjustedCounts"
      ],
      "execution_count": 0,
      "outputs": []
    },
    {
      "cell_type": "code",
      "metadata": {
        "id": "yMq6xUrqT7cu",
        "colab_type": "code",
        "colab": {
          "base_uri": "https://localhost:8080/",
          "height": 34
        },
        "outputId": "3d1ebfab-0b86-49f4-b275-9c7e2f3c1673"
      },
      "source": [
        "finalBigramProb = 1\n",
        "for i in range(len(tokens)):\n",
        "  if tokens[i] is not None and tokens[i] in bigramProb:\n",
        "    finalBigramProb = finalBigramProb*bigramProb[tokens[i]]\n",
        "  else:\n",
        "    finalBigramProb = 0;\n",
        "print(finalBigramProb)"
      ],
      "execution_count": 59,
      "outputs": [
        {
          "output_type": "stream",
          "text": [
            "3.876110121259829e-19\n"
          ],
          "name": "stdout"
        }
      ]
    },
    {
      "cell_type": "code",
      "metadata": {
        "id": "O0I4cmrfJahz",
        "colab_type": "code",
        "colab": {
          "base_uri": "https://localhost:8080/",
          "height": 34
        },
        "outputId": "02165497-8a9f-455a-c0aa-5242dc05799b"
      },
      "source": [
        "finalLaplaceProb = 1\n",
        "laplaceCounts, adjustedCounts = laplaceSmooothing(Bigrams, bigramCounts, unigramCounts)\n",
        "#print(type(laplaceCounts))\n",
        "for i in range(len(tokens)):\n",
        "  if tokens[i] in laplaceCounts:\n",
        "    finalLaplaceProb *= laplaceCounts[tokens[i]]\n",
        "  else:\n",
        "    if tokens[i] not in unigramCounts:\n",
        "      unigramCounts[tokens[i][0]] = 1\n",
        "    temp = 1/(unigramCounts[tokens[i][0]] + len(unigramCounts))\n",
        "    finalLaplaceProb *= temp\n",
        "    adjustedCounts = 1 * unigramCounts[tokens[i][0]] / (unigramCounts[tokens[i][0]] + len(unigramCounts))\n",
        "print(finalLaplaceProb)\n"
      ],
      "execution_count": 60,
      "outputs": [
        {
          "output_type": "stream",
          "text": [
            "2.3749889047337843e-46\n"
          ],
          "name": "stdout"
        }
      ]
    },
    {
      "cell_type": "code",
      "metadata": {
        "id": "o5qSUWu1cr-g",
        "colab_type": "code",
        "colab": {}
      },
      "source": [
        ""
      ],
      "execution_count": 0,
      "outputs": []
    }
  ]
}